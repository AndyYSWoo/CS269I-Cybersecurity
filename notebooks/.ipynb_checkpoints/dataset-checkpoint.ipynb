{
 "cells": [
  {
   "cell_type": "code",
   "execution_count": 75,
   "metadata": {},
   "outputs": [],
   "source": [
    "import os\n",
    "import json\n",
    "import numpy as np\n",
    "import matplotlib.pyplot as plt\n",
    "%matplotlib inline"
   ]
  },
  {
   "cell_type": "code",
   "execution_count": 2,
   "metadata": {},
   "outputs": [
    {
     "name": "stdout",
     "output_type": "stream",
     "text": [
      "Number of clients: 213\n"
     ]
    }
   ],
   "source": [
    "client_dir = \"../data/json/clients/\"\n",
    "client_dict = {}\n",
    "for f in os.listdir(client_dir):\n",
    "    with open(os.path.join(client_dir, f), \"r\") as fp:\n",
    "        client = json.load(fp)\n",
    "        client_dict[client[\"handle\"]] = client\n",
    "print(\"Number of clients: {}\".format(len(client_dict)))"
   ]
  },
  {
   "cell_type": "code",
   "execution_count": 3,
   "metadata": {},
   "outputs": [
    {
     "name": "stdout",
     "output_type": "stream",
     "text": [
      "Number of hackers: 1897\n"
     ]
    }
   ],
   "source": [
    "hacker_dir = \"../data/json/hackers/\"\n",
    "hacker_dict = {}\n",
    "for f in os.listdir(hacker_dir):\n",
    "    with open(os.path.join(hacker_dir, f), \"r\") as fp:\n",
    "        hacker = json.load(fp)\n",
    "        if \"username\" in hacker: # some empty files\n",
    "            hacker_dict[hacker[\"username\"]] = hacker\n",
    "print(\"Number of hackers: {}\".format(len(hacker_dict)))"
   ]
  },
  {
   "cell_type": "code",
   "execution_count": 4,
   "metadata": {},
   "outputs": [
    {
     "name": "stdout",
     "output_type": "stream",
     "text": [
      "Number of reports: 6028\n"
     ]
    }
   ],
   "source": [
    "report_dir = \"../data/json/reports\"\n",
    "report_list = []\n",
    "for f in os.listdir(report_dir):\n",
    "    with open(os.path.join(report_dir, f), \"r\") as fp:\n",
    "        report_list.append(json.load(fp))\n",
    "print(\"Number of reports: {}\".format(len(report_list)))"
   ]
  },
  {
   "cell_type": "code",
   "execution_count": 74,
   "metadata": {},
   "outputs": [],
   "source": [
    "data = []\n",
    "\n",
    "for report in report_list:\n",
    "    # Only keeps labeled reports w/ bouties\n",
    "    if ((not report[\"has_bounty?\"]) \n",
    "        or report[\"substate\"] == \"duplicate\"\n",
    "        or \"bounty_amount\" not in report): continue\n",
    "    datapoint = []\n",
    "    \n",
    "    # y\n",
    "    datapoint.append(float(report[\"bounty_amount\"]))\n",
    "    \n",
    "    # 0: severity indicator\n",
    "    severity_indicator = int(\"severity\" in report)\n",
    "    datapoint.append(severity_indicator)\n",
    "    \n",
    "    # 1-4: one-hot encoding for 4 rating\n",
    "    for rating in [\"low\", \"medium\", \"high\", \"critical\"]:  \n",
    "        datapoint.append(int(severity_indicator == 1 and report[\"severity\"][\"rating\"] == rating))\n",
    "        \n",
    "    # 5: severity score indicator\n",
    "    score_indicator = int(severity_indicator == 1 and \"score\" in report[\"severity\"]) \n",
    "    datapoint.append(score_indicator)                     \n",
    "    \n",
    "    # 6: severity score\n",
    "    datapoint.append(report[\"severity\"][\"score\"] if score_indicator else 0.0)\n",
    "    \n",
    "    # 7: metric indicator\n",
    "    metric_indicator = int(severity_indicator == 1 and \"metrics\" in report[\"severity\"])\n",
    "    datapoint.append(metric_indicator)\n",
    "    \n",
    "    # 8-10: one-hot encoding for 3 confidentiality\n",
    "    for conf in [\"none\", \"low\", \"high\"]:\n",
    "        datapoint.append(int(metric_indicator == 1 and report[\"severity\"][\"metrics\"][\"confidentiality\"] == conf))\n",
    "    \n",
    "    # 11-13: one-hot encoding for 3 privileges_required\n",
    "    for prev in [\"none\", \"low\", \"high\"]:\n",
    "        datapoint.append(int(metric_indicator == 1 and report[\"severity\"][\"metrics\"][\"privileges_required\"] == prev))\n",
    "    \n",
    "    # 14-15: one-hot encoding for 2 user_interaction\n",
    "    for ui in [\"none\", \"required\"]:\n",
    "        datapoint.append(int(metric_indicator == 1 and report[\"severity\"][\"metrics\"][\"user_interaction\"] == ui)) \n",
    "    \n",
    "    # 16-19: one-hot encoding for 4 attack_vector\n",
    "    for attv in [\"local\", \"adjacent\", \"physical\", \"network\"]:\n",
    "        datapoint.append(int(metric_indicator == 1 and report[\"severity\"][\"metrics\"][\"attack_vector\"] == attv))\n",
    "    \n",
    "    # 20-21: one-hot encoding for 2 attack_complexity\n",
    "    for attc in [\"low\", \"high\"]:\n",
    "        datapoint.append(int(metric_indicator == 1 and report[\"severity\"][\"metrics\"][\"attack_complexity\"] == attc))\n",
    "    \n",
    "    # 22-24: one-hot encoding for 3 integrity\n",
    "    for inte in [\"none\", \"low\", \"high\"]:\n",
    "        datapoint.append(int(metric_indicator == 1 and report[\"severity\"][\"metrics\"][\"integrity\"] == inte))\n",
    "    \n",
    "    # 25-27: one-hot encoding for 3 availability\n",
    "    for avai in [\"none\", \"low\", \"high\"]:\n",
    "        datapoint.append(int(metric_indicator == 1 and report[\"severity\"][\"metrics\"][\"availability\"] == avai))\n",
    "\n",
    "    # 28: number of activities\n",
    "    datapoint.append(len(report[\"activities\"]))\n",
    "    \n",
    "    # 29: is_external_bug\n",
    "    datapoint.append(int(report[\"is_external_bug\"]))\n",
    "    \n",
    "    if report[\"reporter\"][\"username\"] not in hacker_dict: continue\n",
    "    hacker = hacker_dict[report[\"reporter\"][\"username\"]]\n",
    "    \n",
    "    # 30: hackerone_triager\n",
    "    datapoint.append(int(hacker[\"hackerone_triager\"]))\n",
    "    \n",
    "    # 31: hacker target count\n",
    "    datapoint.append(hacker[\"target_count\"])\n",
    "    \n",
    "    # 32-33: hacker impact \n",
    "    impact_indicator = int(hacker[\"impact\"] is not None)\n",
    "    datapoint.append(impact_indicator)\n",
    "    datapoint.append(float(hacker[\"impact\"]) if impact_indicator else 0.0)\n",
    "    \n",
    "    \n",
    "    # 34-35: hacker impact percentile\n",
    "    impact_perc_indicator = int(hacker[\"impact_percentile\"] is not None)\n",
    "    datapoint.append(impact_perc_indicator)\n",
    "    datapoint.append(float(hacker[\"impact_percentile\"]) if impact_perc_indicator else 0.0)\n",
    "    \n",
    "    # 36: hacker report count\n",
    "    datapoint.append(hacker[\"report_count\"])\n",
    "    \n",
    "    # 37-38: hacker signal\n",
    "    signal_indicator = int(hacker[\"signal\"] is not None)\n",
    "    datapoint.append(signal_indicator)\n",
    "    datapoint.append(float(hacker[\"signal\"]) if signal_indicator else 0.0)\n",
    "    \n",
    "    # 39-40: hacker signal percentile\n",
    "    signal_perc_indicator = int(hacker[\"signal_percentile\"] is not None)\n",
    "    datapoint.append(signal_perc_indicator)\n",
    "    datapoint.append(float(hacker[\"signal_percentile\"]) if signal_perc_indicator else 0.0)\n",
    "    \n",
    "    # 41-42: hacker reputaion\n",
    "    reputation_indicator = int(hacker[\"reputation\"] is not None)\n",
    "    datapoint.append(reputation_indicator)\n",
    "    datapoint.append(int(hacker[\"reputation\"]) if reputation_indicator else 0.0)\n",
    "    \n",
    "    # 43-44: hacker rank\n",
    "    rank_indicator = int(hacker[\"rank\"] is not None)\n",
    "    datapoint.append(rank_indicator)\n",
    "    datapoint.append(int(hacker[\"rank\"]) if rank_indicator else 0)\n",
    "    \n",
    "    client = client_dict[report[\"team\"][\"handle\"]]\n",
    "    \n",
    "    # 45-46: client total bounties paid\n",
    "    total_bounties_paid_indicator = int(client[\"total_bounties_paid\"] is not None)\n",
    "    datapoint.append(total_bounties_paid_indicator)\n",
    "    datapoint.append(float(client[\"total_bounties_paid\"]) if total_bounties_paid_indicator else 0.0)\n",
    "    \n",
    "    # 47-48: client bug count\n",
    "    bug_count_indicator = int(\"bug_count\" in client)\n",
    "    datapoint.append(bug_count_indicator)\n",
    "    datapoint.append(int(client[\"bug_count\"]) if bug_count_indicator else 0)\n",
    "    \n",
    "    # 49: client researcher count\n",
    "    datapoint.append(int(client[\"researcher_count\"]))\n",
    "    \n",
    "    # 50-51: client target signal\n",
    "    target_signal_indicator = int(client[\"target_signal\"] is not None)\n",
    "    datapoint.append(target_signal_indicator)\n",
    "    datapoint.append(float(client[\"target_signal\"]) if target_signal_indicator else 0.0)\n",
    "    \n",
    "    # 52-53: client avg upper\n",
    "    average_bounty_upper_range_indicator = int(client[\"average_bounty_upper_range\"] is not None)\n",
    "    datapoint.append(average_bounty_upper_range_indicator)\n",
    "    datapoint.append(float(client[\"average_bounty_upper_range\"]) if average_bounty_upper_range_indicator else 0.0)\n",
    "  \n",
    "    # 54-55: client avg lower\n",
    "    average_bounty_lower_range_indicator = int(client[\"average_bounty_lower_range\"] is not None)\n",
    "    datapoint.append(average_bounty_lower_range_indicator)\n",
    "    datapoint.append(float(client[\"average_bounty_lower_range\"]) if average_bounty_lower_range_indicator else 0.0)\n",
    "\n",
    "    # 56-57: client top upper\n",
    "    top_bounty_upper_range_indicator = int(client[\"top_bounty_upper_range\"] is not None)\n",
    "    datapoint.append(top_bounty_upper_range_indicator)\n",
    "    datapoint.append(float(client[\"top_bounty_upper_range\"]) if top_bounty_upper_range_indicator else 0.0)\n",
    "\n",
    "    # 58-59: client top lower\n",
    "    top_bounty_lower_range_indicator = int(client[\"top_bounty_lower_range\"] is not None)\n",
    "    datapoint.append(top_bounty_lower_range_indicator)\n",
    "    datapoint.append(float(client[\"top_bounty_lower_range\"]) if top_bounty_lower_range_indicator else 0.0)\n",
    "    \n",
    "    data.append(datapoint)"
   ]
  },
  {
   "cell_type": "code",
   "execution_count": 85,
   "metadata": {},
   "outputs": [
    {
     "name": "stdout",
     "output_type": "stream",
     "text": [
      "X shape: (2865, 60), y shape: (2865,)\n"
     ]
    }
   ],
   "source": [
    "data_np = np.asarray(data)\n",
    "X, y = data_np[:, 1:], data_np[:, 0]\n",
    "print(\"X shape: {}, y shape: {}\".format(X.shape, y.shape))"
   ]
  },
  {
   "cell_type": "code",
   "execution_count": 88,
   "metadata": {},
   "outputs": [
    {
     "name": "stdout",
     "output_type": "stream",
     "text": [
      "Train data: (2579, 61), Dev data: (286, 61)\n"
     ]
    }
   ],
   "source": [
    "dev_ratio = 0.1\n",
    "dev_size = int(dev_ratio * data_np.shape[0])\n",
    "np.random.shuffle(data_np)\n",
    "train_data = data_np[:-dev_size, :]\n",
    "dev_data = data_np[-dev_size:, :]\n",
    "print(\"Train data: {}, Dev data: {}\".format(train_data.shape, dev_data.shape))\n",
    "np.save(\"../data/npy/train\", train_data)\n",
    "np.save(\"../data/npy/dev\", dev_data)"
   ]
  },
  {
   "cell_type": "code",
   "execution_count": 90,
   "metadata": {},
   "outputs": [
    {
     "data": {
      "text/plain": [
       "(970.6868237347295, 25000.0, 1.0)"
      ]
     },
     "execution_count": 90,
     "metadata": {},
     "output_type": "execute_result"
    }
   ],
   "source": []
  },
  {
   "cell_type": "code",
   "execution_count": null,
   "metadata": {},
   "outputs": [],
   "source": []
  }
 ],
 "metadata": {
  "kernelspec": {
   "display_name": "Python 3",
   "language": "python",
   "name": "python3"
  },
  "language_info": {
   "codemirror_mode": {
    "name": "ipython",
    "version": 3
   },
   "file_extension": ".py",
   "mimetype": "text/x-python",
   "name": "python",
   "nbconvert_exporter": "python",
   "pygments_lexer": "ipython3",
   "version": "3.6.6"
  }
 },
 "nbformat": 4,
 "nbformat_minor": 2
}
