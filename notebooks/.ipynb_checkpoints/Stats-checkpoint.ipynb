{
 "cells": [
  {
   "cell_type": "code",
   "execution_count": 2,
   "metadata": {},
   "outputs": [],
   "source": [
    "import os\n",
    "import json"
   ]
  },
  {
   "cell_type": "code",
   "execution_count": 6,
   "metadata": {},
   "outputs": [
    {
     "name": "stdout",
     "output_type": "stream",
     "text": [
      "Number of clients: 213\n"
     ]
    }
   ],
   "source": [
    "client_dir = \"../data/json/clients/\"\n",
    "client_dict = {}\n",
    "for f in os.listdir(client_dir):\n",
    "    with open(os.path.join(client_dir, f), \"r\") as fp:\n",
    "        client = json.load(fp)\n",
    "        client_dict[client[\"handle\"]] = client\n",
    "print(\"Number of clients: {}\".format(len(client_dict)))"
   ]
  },
  {
   "cell_type": "code",
   "execution_count": 8,
   "metadata": {},
   "outputs": [
    {
     "name": "stdout",
     "output_type": "stream",
     "text": [
      "Number of hackers: 1897\n"
     ]
    }
   ],
   "source": [
    "hacker_dir = \"../data/json/hackers/\"\n",
    "hacker_dict = {}\n",
    "for f in os.listdir(hacker_dir):\n",
    "    with open(os.path.join(hacker_dir, f), \"r\") as fp:\n",
    "        hacker = json.load(fp)\n",
    "        if \"username\" in hacker: # some empty files\n",
    "            hacker_dict[hacker[\"username\"]] = hacker\n",
    "print(\"Number of hackers: {}\".format(len(hacker_dict)))"
   ]
  },
  {
   "cell_type": "code",
   "execution_count": null,
   "metadata": {},
   "outputs": [],
   "source": []
  }
 ],
 "metadata": {
  "kernelspec": {
   "display_name": "Python 3",
   "language": "python",
   "name": "python3"
  },
  "language_info": {
   "codemirror_mode": {
    "name": "ipython",
    "version": 3
   },
   "file_extension": ".py",
   "mimetype": "text/x-python",
   "name": "python",
   "nbconvert_exporter": "python",
   "pygments_lexer": "ipython3",
   "version": "3.6.6"
  }
 },
 "nbformat": 4,
 "nbformat_minor": 2
}
